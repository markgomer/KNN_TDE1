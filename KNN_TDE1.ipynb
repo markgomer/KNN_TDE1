{
  "nbformat": 4,
  "nbformat_minor": 0,
  "metadata": {
    "colab": {
      "name": "KNN_TDE1.ipynb",
      "provenance": [],
      "authorship_tag": "ABX9TyPz5VaWdhlg1jJqetH6iJHJ",
      "include_colab_link": true
    },
    "kernelspec": {
      "name": "python3",
      "display_name": "Python 3"
    },
    "language_info": {
      "name": "python"
    }
  },
  "cells": [
    {
      "cell_type": "markdown",
      "metadata": {
        "id": "view-in-github",
        "colab_type": "text"
      },
      "source": [
        "<a href=\"https://colab.research.google.com/github/markgomer/KNN_TDE1/blob/main/KNN_TDE1.ipynb\" target=\"_parent\"><img src=\"https://colab.research.google.com/assets/colab-badge.svg\" alt=\"Open In Colab\"/></a>"
      ]
    },
    {
      "cell_type": "markdown",
      "source": [
        "TDE 1: Na primeira etapa do TDE as equipes deverão implementar do zero (sem o uso do Scikit Learn) e avaliar uma das técnicas estudadas. Sugere-se KNN ou Naive Bayes considerando tarefa de classificação. A avaliação deverá ser realizada usando-se as bases de dados (Breast Cancer e Digits). Os resultados deverão ser comparados com a mesma técnica disponível no Scikit Learn.\n",
        "\n",
        "Entrega de PDF descrevendo a comparação de sua versão KNN .vs. KNN do ScikitLearn para um problema de classificação (sugestão: base digits) + código."
      ],
      "metadata": {
        "id": "t_9wz7va2902"
      }
    },
    {
      "cell_type": "code",
      "execution_count": null,
      "metadata": {
        "id": "bLWSVUNu2vAX"
      },
      "outputs": [],
      "source": [
        ""
      ]
    }
  ]
}